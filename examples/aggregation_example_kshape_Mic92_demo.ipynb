{
 "cells": [
  {
   "cell_type": "code",
   "execution_count": 1,
   "metadata": {},
   "outputs": [
    {
     "name": "stdout",
     "output_type": "stream",
     "text": [
      "[(array([0., 0., 0., 0., 0.]), []), (array([-0.95401427, -0.94446833,  0.87940388,  1.18230397, -0.16322525]), [1, 2]), (array([-1.56424393, -0.25344051,  1.10626386,  0.43326506,  0.27815551]), [0]), (array([-0.07907411,  0.91525767,  0.2036787 ,  0.61450901, -1.65437128]), [3])]\n"
     ]
    }
   ],
   "source": [
    "from kshape.core import kshape, zscore\n",
    "\n",
    "time_series = [[1,2,3,4,5], [0,1,2,3,4], [3,2,1,0,5], [1,2,2,3,3]]\n",
    "cluster_num = 4\n",
    "clusters = kshape(zscore(time_series), cluster_num)\n",
    "print(clusters)"
   ]
  },
  {
   "cell_type": "code",
   "execution_count": null,
   "metadata": {},
   "outputs": [],
   "source": []
  }
 ],
 "metadata": {
  "kernelspec": {
   "display_name": "Python 3",
   "language": "python",
   "name": "python3"
  },
  "language_info": {
   "codemirror_mode": {
    "name": "ipython",
    "version": 3
   },
   "file_extension": ".py",
   "mimetype": "text/x-python",
   "name": "python",
   "nbconvert_exporter": "python",
   "pygments_lexer": "ipython3",
   "version": "3.6.5"
  }
 },
 "nbformat": 4,
 "nbformat_minor": 2
}
